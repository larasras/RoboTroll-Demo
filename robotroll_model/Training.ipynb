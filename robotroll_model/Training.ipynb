{
 "cells": [
  {
   "cell_type": "code",
   "execution_count": 1,
   "id": "recognized-oriental",
   "metadata": {},
   "outputs": [],
   "source": [
    "# Import modules yang akan digunakan\n",
    "import pandas as pd\n",
    "import numpy as np\n",
    "from scipy.optimize import fmin_tnc\n",
    "from sklearn.metrics import confusion_matrix"
   ]
  },
  {
   "cell_type": "code",
   "execution_count": 2,
   "id": "expected-vitamin",
   "metadata": {},
   "outputs": [],
   "source": [
    "def sigmoid(z):\n",
    "    return 1/(1+np.exp(-z))\n",
    "\n",
    "def h(x, theta):\n",
    "    return sigmoid( np.matmul(x, theta) )\n",
    "\n",
    "def costf(theta, x, y):\n",
    "    hf = h(x, theta)\n",
    "    m = len(x)\n",
    "    J = (-1/m) * ( np.matmul(y.transpose(), np.log(hf)) + np.matmul((1-y).transpose(), (np.log(1 - hf))))\n",
    "    grad = (1/m)*np.matmul(x.transpose(), hf - y)\n",
    "    return J, grad\n",
    "\n",
    "def predict(x, theta):\n",
    "    h1 = h(x, theta)\n",
    "    try:\n",
    "        for i in x.index:\n",
    "            if h1[i] >= 0.5:\n",
    "                h1[i] = 1\n",
    "            else:\n",
    "                h1[i] = 0\n",
    "    except IndexError:\n",
    "        if h1 >= 0.5:\n",
    "            h1 = 1\n",
    "        else:\n",
    "            h1 = 0\n",
    "    return h1\n",
    "\n",
    "def testErr(h, y):\n",
    "    err_sum = 0\n",
    "    for i in y.index:\n",
    "        if ((h[i] >= 0.5) and y[i] == 0):\n",
    "            err_sum += 1\n",
    "        elif ((h[i] < 0.5) and y[i] == 1):\n",
    "            err_sum += 1\n",
    "        else:\n",
    "            err_sum += 0\n",
    "    return err_sum/len(y)"
   ]
  },
  {
   "cell_type": "code",
   "execution_count": 3,
   "id": "ceramic-return",
   "metadata": {},
   "outputs": [],
   "source": [
    "# Buka dan pisahkan x dan y\n",
    "dataset = pd.read_csv('dataset.csv')"
   ]
  },
  {
   "cell_type": "code",
   "execution_count": 4,
   "id": "a2e9ea99-d537-4521-a2e6-a35df5dbb66f",
   "metadata": {},
   "outputs": [
    {
     "data": {
      "text/html": [
       "<div>\n",
       "<style scoped>\n",
       "    .dataframe tbody tr th:only-of-type {\n",
       "        vertical-align: middle;\n",
       "    }\n",
       "\n",
       "    .dataframe tbody tr th {\n",
       "        vertical-align: top;\n",
       "    }\n",
       "\n",
       "    .dataframe thead th {\n",
       "        text-align: right;\n",
       "    }\n",
       "</style>\n",
       "<table border=\"1\" class=\"dataframe\">\n",
       "  <thead>\n",
       "    <tr style=\"text-align: right;\">\n",
       "      <th></th>\n",
       "      <th>x1</th>\n",
       "      <th>x2</th>\n",
       "      <th>x3</th>\n",
       "      <th>x4</th>\n",
       "      <th>x5</th>\n",
       "      <th>x6</th>\n",
       "      <th>x7</th>\n",
       "      <th>x8</th>\n",
       "      <th>x9</th>\n",
       "      <th>x10</th>\n",
       "      <th>y</th>\n",
       "    </tr>\n",
       "  </thead>\n",
       "  <tbody>\n",
       "    <tr>\n",
       "      <th>0</th>\n",
       "      <td>1</td>\n",
       "      <td>19963.48</td>\n",
       "      <td>25011.81</td>\n",
       "      <td>81344.03</td>\n",
       "      <td>14978.52</td>\n",
       "      <td>8265.522</td>\n",
       "      <td>9986.67</td>\n",
       "      <td>15974.253</td>\n",
       "      <td>34628.378</td>\n",
       "      <td>11431.210</td>\n",
       "      <td>0</td>\n",
       "    </tr>\n",
       "    <tr>\n",
       "      <th>1</th>\n",
       "      <td>1</td>\n",
       "      <td>355.81</td>\n",
       "      <td>264.14</td>\n",
       "      <td>246.59</td>\n",
       "      <td>260.66</td>\n",
       "      <td>262.384</td>\n",
       "      <td>743.47</td>\n",
       "      <td>277.258</td>\n",
       "      <td>716.574</td>\n",
       "      <td>253.159</td>\n",
       "      <td>1</td>\n",
       "    </tr>\n",
       "    <tr>\n",
       "      <th>2</th>\n",
       "      <td>1</td>\n",
       "      <td>249.16</td>\n",
       "      <td>306.11</td>\n",
       "      <td>258.71</td>\n",
       "      <td>261.69</td>\n",
       "      <td>259.481</td>\n",
       "      <td>286.35</td>\n",
       "      <td>261.513</td>\n",
       "      <td>252.038</td>\n",
       "      <td>257.435</td>\n",
       "      <td>1</td>\n",
       "    </tr>\n",
       "    <tr>\n",
       "      <th>3</th>\n",
       "      <td>1</td>\n",
       "      <td>279.62</td>\n",
       "      <td>248.04</td>\n",
       "      <td>266.63</td>\n",
       "      <td>270.31</td>\n",
       "      <td>253.855</td>\n",
       "      <td>257.62</td>\n",
       "      <td>272.099</td>\n",
       "      <td>255.964</td>\n",
       "      <td>250.311</td>\n",
       "      <td>1</td>\n",
       "    </tr>\n",
       "    <tr>\n",
       "      <th>4</th>\n",
       "      <td>1</td>\n",
       "      <td>270.18</td>\n",
       "      <td>256.78</td>\n",
       "      <td>261.48</td>\n",
       "      <td>745.72</td>\n",
       "      <td>263.940</td>\n",
       "      <td>295.45</td>\n",
       "      <td>277.875</td>\n",
       "      <td>265.371</td>\n",
       "      <td>265.497</td>\n",
       "      <td>1</td>\n",
       "    </tr>\n",
       "    <tr>\n",
       "      <th>...</th>\n",
       "      <td>...</td>\n",
       "      <td>...</td>\n",
       "      <td>...</td>\n",
       "      <td>...</td>\n",
       "      <td>...</td>\n",
       "      <td>...</td>\n",
       "      <td>...</td>\n",
       "      <td>...</td>\n",
       "      <td>...</td>\n",
       "      <td>...</td>\n",
       "      <td>...</td>\n",
       "    </tr>\n",
       "    <tr>\n",
       "      <th>195</th>\n",
       "      <td>1</td>\n",
       "      <td>280.35</td>\n",
       "      <td>266.56</td>\n",
       "      <td>250.75</td>\n",
       "      <td>279.13</td>\n",
       "      <td>261.110</td>\n",
       "      <td>242.82</td>\n",
       "      <td>253.727</td>\n",
       "      <td>736.150</td>\n",
       "      <td>275.473</td>\n",
       "      <td>1</td>\n",
       "    </tr>\n",
       "    <tr>\n",
       "      <th>196</th>\n",
       "      <td>1</td>\n",
       "      <td>698.70</td>\n",
       "      <td>255.60</td>\n",
       "      <td>272.88</td>\n",
       "      <td>256.07</td>\n",
       "      <td>256.106</td>\n",
       "      <td>724.84</td>\n",
       "      <td>272.856</td>\n",
       "      <td>248.905</td>\n",
       "      <td>714.726</td>\n",
       "      <td>1</td>\n",
       "    </tr>\n",
       "    <tr>\n",
       "      <th>197</th>\n",
       "      <td>1</td>\n",
       "      <td>252.26</td>\n",
       "      <td>244.09</td>\n",
       "      <td>786.63</td>\n",
       "      <td>392.90</td>\n",
       "      <td>223.839</td>\n",
       "      <td>264.82</td>\n",
       "      <td>215.754</td>\n",
       "      <td>257.958</td>\n",
       "      <td>292.069</td>\n",
       "      <td>1</td>\n",
       "    </tr>\n",
       "    <tr>\n",
       "      <th>198</th>\n",
       "      <td>1</td>\n",
       "      <td>66067.09</td>\n",
       "      <td>22694.44</td>\n",
       "      <td>8907.54</td>\n",
       "      <td>8897.55</td>\n",
       "      <td>13650.813</td>\n",
       "      <td>11733.00</td>\n",
       "      <td>30321.058</td>\n",
       "      <td>18043.500</td>\n",
       "      <td>9938.916</td>\n",
       "      <td>0</td>\n",
       "    </tr>\n",
       "    <tr>\n",
       "      <th>199</th>\n",
       "      <td>1</td>\n",
       "      <td>8983.72</td>\n",
       "      <td>16841.89</td>\n",
       "      <td>23696.57</td>\n",
       "      <td>19404.93</td>\n",
       "      <td>26647.092</td>\n",
       "      <td>20121.92</td>\n",
       "      <td>3487.952</td>\n",
       "      <td>16017.435</td>\n",
       "      <td>2554.050</td>\n",
       "      <td>0</td>\n",
       "    </tr>\n",
       "  </tbody>\n",
       "</table>\n",
       "<p>200 rows × 11 columns</p>\n",
       "</div>"
      ],
      "text/plain": [
       "     x1        x2        x3        x4        x5         x6        x7  \\\n",
       "0     1  19963.48  25011.81  81344.03  14978.52   8265.522   9986.67   \n",
       "1     1    355.81    264.14    246.59    260.66    262.384    743.47   \n",
       "2     1    249.16    306.11    258.71    261.69    259.481    286.35   \n",
       "3     1    279.62    248.04    266.63    270.31    253.855    257.62   \n",
       "4     1    270.18    256.78    261.48    745.72    263.940    295.45   \n",
       "..   ..       ...       ...       ...       ...        ...       ...   \n",
       "195   1    280.35    266.56    250.75    279.13    261.110    242.82   \n",
       "196   1    698.70    255.60    272.88    256.07    256.106    724.84   \n",
       "197   1    252.26    244.09    786.63    392.90    223.839    264.82   \n",
       "198   1  66067.09  22694.44   8907.54   8897.55  13650.813  11733.00   \n",
       "199   1   8983.72  16841.89  23696.57  19404.93  26647.092  20121.92   \n",
       "\n",
       "            x8         x9        x10  y  \n",
       "0    15974.253  34628.378  11431.210  0  \n",
       "1      277.258    716.574    253.159  1  \n",
       "2      261.513    252.038    257.435  1  \n",
       "3      272.099    255.964    250.311  1  \n",
       "4      277.875    265.371    265.497  1  \n",
       "..         ...        ...        ... ..  \n",
       "195    253.727    736.150    275.473  1  \n",
       "196    272.856    248.905    714.726  1  \n",
       "197    215.754    257.958    292.069  1  \n",
       "198  30321.058  18043.500   9938.916  0  \n",
       "199   3487.952  16017.435   2554.050  0  \n",
       "\n",
       "[200 rows x 11 columns]"
      ]
     },
     "execution_count": 4,
     "metadata": {},
     "output_type": "execute_result"
    }
   ],
   "source": [
    "dataset"
   ]
  },
  {
   "cell_type": "code",
   "execution_count": 18,
   "id": "paperback-geography",
   "metadata": {},
   "outputs": [],
   "source": [
    "train, validate, test = np.split(dataset.sample(frac=1, random_state=42), [int(.6*len(dataset)), int(.8*len(dataset))])"
   ]
  },
  {
   "cell_type": "code",
   "execution_count": 21,
   "id": "dietary-motel",
   "metadata": {},
   "outputs": [],
   "source": [
    "# Y dataset for all behaviour\n",
    "y_train = train['y']\n",
    "y_validate = validate['y']\n",
    "y_test = test['y']\n",
    "\n",
    "# Perilaku 1\n",
    "x_train = train.drop('y', axis=1)\n",
    "x_validate = validate.drop('y', axis=1)\n",
    "x_test = test.drop('y', axis=1)"
   ]
  },
  {
   "cell_type": "code",
   "execution_count": 30,
   "id": "corporate-zealand",
   "metadata": {},
   "outputs": [],
   "source": [
    "# Cari nilai theta untuk prediksi\n",
    "result = fmin_tnc(costf, x0=np.zeros(x_train.shape[1]), args=(x_train.values, y_train.values), maxfun=400)"
   ]
  },
  {
   "cell_type": "code",
   "execution_count": 31,
   "id": "assisted-minneapolis",
   "metadata": {},
   "outputs": [
    {
     "name": "stdout",
     "output_type": "stream",
     "text": [
      "Train Error Perilaku 1:  0.0\n"
     ]
    }
   ],
   "source": [
    "print(\"Train Error Perilaku 1: \", testErr(h(x_train, result[0]), y_train))"
   ]
  },
  {
   "cell_type": "code",
   "execution_count": 32,
   "id": "charming-smart",
   "metadata": {},
   "outputs": [
    {
     "name": "stdout",
     "output_type": "stream",
     "text": [
      "Validate Error Perilaku 1:  0.0\n"
     ]
    }
   ],
   "source": [
    "print(\"Validate Error Perilaku 1: \", testErr(h(x_validate, result[0]), y_validate))"
   ]
  },
  {
   "cell_type": "code",
   "execution_count": 33,
   "id": "framed-cradle",
   "metadata": {},
   "outputs": [
    {
     "name": "stdout",
     "output_type": "stream",
     "text": [
      "Test Error Perilaku 1:  0.0\n"
     ]
    }
   ],
   "source": [
    "print(\"Test Error Perilaku 1: \", testErr(h(x_test, result[0]), y_test))"
   ]
  },
  {
   "cell_type": "code",
   "execution_count": 35,
   "id": "restricted-trunk",
   "metadata": {},
   "outputs": [],
   "source": [
    "pred = predict(x_test, result[0])\n",
    "conf_matrix = confusion_matrix(pred, y_test)"
   ]
  },
  {
   "cell_type": "code",
   "execution_count": 36,
   "id": "native-teddy",
   "metadata": {},
   "outputs": [
    {
     "name": "stdout",
     "output_type": "stream",
     "text": [
      "#####################\n",
      "Akurasi Perilaku 4 : 1.0\n",
      "F1 score Perilaku 4 : 1.0\n"
     ]
    }
   ],
   "source": [
    "conf_matrix = confusion_matrix(pred, y_test)\n",
    "tn = conf_matrix[0,0]\n",
    "fp = conf_matrix[0,1]\n",
    "tp = conf_matrix[1,1]\n",
    "fn = conf_matrix[1,0]\n",
    "accuracy = (tp + tn) / (tp + fp + tn + fn)\n",
    "precision = tp / (tp + fp)\n",
    "recall    = tp / (tp + fn)\n",
    "f1score  = 2 * precision * recall / (precision + recall)\n",
    "print(\"#####################\")\n",
    "print(f'Akurasi Perilaku {i} : {accuracy}')\n",
    "print(f'F1 score Perilaku {i} : {f1score}')"
   ]
  },
  {
   "cell_type": "code",
   "execution_count": 57,
   "id": "db7052fb-ae11-4b0b-b7ad-2bde9a4a9e65",
   "metadata": {},
   "outputs": [],
   "source": [
    "training_result = []"
   ]
  },
  {
   "cell_type": "code",
   "execution_count": 58,
   "id": "3a0db5f1-1046-44b0-8584-c95c8781a3c4",
   "metadata": {},
   "outputs": [],
   "source": [
    "for i in range(0, 10):\n",
    "    training_result.append(result[0][i])"
   ]
  },
  {
   "cell_type": "code",
   "execution_count": 59,
   "id": "10e48d20-a8c2-4e59-8590-356db38addd2",
   "metadata": {},
   "outputs": [
    {
     "data": {
      "text/plain": [
       "[18.897194947369407,\n",
       " 0.00016946528306475481,\n",
       " -0.00046466636484231535,\n",
       " -9.690433203706609e-05,\n",
       " -0.001000042935456584,\n",
       " -0.0016549588835906711,\n",
       " -0.0008089956243595116,\n",
       " -0.0007371388631707813,\n",
       " 0.0004990419750629027,\n",
       " -0.00038991813654082883]"
      ]
     },
     "execution_count": 59,
     "metadata": {},
     "output_type": "execute_result"
    }
   ],
   "source": [
    "training_result"
   ]
  },
  {
   "cell_type": "code",
   "execution_count": 60,
   "id": "134303b8-9063-4876-9458-8c82711bf150",
   "metadata": {},
   "outputs": [],
   "source": [
    "f = open(\"model.js\", \"w\")\n",
    "f.write('const model = ' +str(training_result)+';\\n'+ 'export { model };')\n",
    "f.close()"
   ]
  },
  {
   "cell_type": "code",
   "execution_count": null,
   "id": "46e69dbd-aa80-4254-800b-1f0d3965df8e",
   "metadata": {},
   "outputs": [],
   "source": []
  }
 ],
 "metadata": {
  "kernelspec": {
   "display_name": "Python 3",
   "language": "python",
   "name": "python3"
  },
  "language_info": {
   "codemirror_mode": {
    "name": "ipython",
    "version": 3
   },
   "file_extension": ".py",
   "mimetype": "text/x-python",
   "name": "python",
   "nbconvert_exporter": "python",
   "pygments_lexer": "ipython3",
   "version": "3.7.8"
  }
 },
 "nbformat": 4,
 "nbformat_minor": 5
}
